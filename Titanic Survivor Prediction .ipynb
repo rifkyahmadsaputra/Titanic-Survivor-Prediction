{
 "cells": [
  {
   "cell_type": "code",
   "execution_count": 3,
   "metadata": {
    "execution": {
     "iopub.execute_input": "2020-08-31T13:02:04.222309Z",
     "iopub.status.busy": "2020-08-31T13:02:04.221512Z",
     "iopub.status.idle": "2020-08-31T13:02:05.349128Z",
     "shell.execute_reply": "2020-08-31T13:02:05.348165Z"
    },
    "papermill": {
     "duration": 1.153985,
     "end_time": "2020-08-31T13:02:05.349285",
     "exception": false,
     "start_time": "2020-08-31T13:02:04.195300",
     "status": "completed"
    },
    "tags": []
   },
   "outputs": [],
   "source": [
    "import numpy as np\n",
    "import pandas as pd\n",
    "import matplotlib.pyplot as plt\n",
    "import seaborn as sns\n",
    "sns.set(style = 'whitegrid')\n",
    "sns.distributions._has_statsmodels = False # To handle RuntimeError: Selected KDE bandwidth is 0."
   ]
  },
  {
   "cell_type": "code",
   "execution_count": 4,
   "metadata": {
    "execution": {
     "iopub.execute_input": "2020-08-31T13:02:05.402466Z",
     "iopub.status.busy": "2020-08-31T13:02:05.401667Z",
     "iopub.status.idle": "2020-08-31T13:02:05.459668Z",
     "shell.execute_reply": "2020-08-31T13:02:05.458706Z"
    },
    "papermill": {
     "duration": 0.091688,
     "end_time": "2020-08-31T13:02:05.459852",
     "exception": false,
     "start_time": "2020-08-31T13:02:05.368164",
     "status": "completed"
    },
    "scrolled": true,
    "tags": []
   },
   "outputs": [
    {
     "ename": "FileNotFoundError",
     "evalue": "[Errno 2] File b'../input/titanic/train.csv' does not exist: b'../input/titanic/train.csv'",
     "output_type": "error",
     "traceback": [
      "\u001b[1;31m---------------------------------------------------------------------------\u001b[0m",
      "\u001b[1;31mFileNotFoundError\u001b[0m                         Traceback (most recent call last)",
      "\u001b[1;32m<ipython-input-4-6c614efe2768>\u001b[0m in \u001b[0;36m<module>\u001b[1;34m\u001b[0m\n\u001b[1;32m----> 1\u001b[1;33m \u001b[0mdata_train\u001b[0m \u001b[1;33m=\u001b[0m \u001b[0mpd\u001b[0m\u001b[1;33m.\u001b[0m\u001b[0mread_csv\u001b[0m\u001b[1;33m(\u001b[0m\u001b[1;34m'../input/titanic/train.csv'\u001b[0m\u001b[1;33m)\u001b[0m\u001b[1;33m\u001b[0m\u001b[1;33m\u001b[0m\u001b[0m\n\u001b[0m\u001b[0;32m      2\u001b[0m \u001b[0mdata_test\u001b[0m \u001b[1;33m=\u001b[0m \u001b[0mpd\u001b[0m\u001b[1;33m.\u001b[0m\u001b[0mread_csv\u001b[0m\u001b[1;33m(\u001b[0m\u001b[1;34m'../input/titanic/test.csv'\u001b[0m\u001b[1;33m)\u001b[0m\u001b[1;33m\u001b[0m\u001b[1;33m\u001b[0m\u001b[0m\n",
      "\u001b[1;32mD:\\application\\Anaconda\\lib\\site-packages\\pandas\\io\\parsers.py\u001b[0m in \u001b[0;36mparser_f\u001b[1;34m(filepath_or_buffer, sep, delimiter, header, names, index_col, usecols, squeeze, prefix, mangle_dupe_cols, dtype, engine, converters, true_values, false_values, skipinitialspace, skiprows, skipfooter, nrows, na_values, keep_default_na, na_filter, verbose, skip_blank_lines, parse_dates, infer_datetime_format, keep_date_col, date_parser, dayfirst, cache_dates, iterator, chunksize, compression, thousands, decimal, lineterminator, quotechar, quoting, doublequote, escapechar, comment, encoding, dialect, error_bad_lines, warn_bad_lines, delim_whitespace, low_memory, memory_map, float_precision)\u001b[0m\n\u001b[0;32m    683\u001b[0m         )\n\u001b[0;32m    684\u001b[0m \u001b[1;33m\u001b[0m\u001b[0m\n\u001b[1;32m--> 685\u001b[1;33m         \u001b[1;32mreturn\u001b[0m \u001b[0m_read\u001b[0m\u001b[1;33m(\u001b[0m\u001b[0mfilepath_or_buffer\u001b[0m\u001b[1;33m,\u001b[0m \u001b[0mkwds\u001b[0m\u001b[1;33m)\u001b[0m\u001b[1;33m\u001b[0m\u001b[1;33m\u001b[0m\u001b[0m\n\u001b[0m\u001b[0;32m    686\u001b[0m \u001b[1;33m\u001b[0m\u001b[0m\n\u001b[0;32m    687\u001b[0m     \u001b[0mparser_f\u001b[0m\u001b[1;33m.\u001b[0m\u001b[0m__name__\u001b[0m \u001b[1;33m=\u001b[0m \u001b[0mname\u001b[0m\u001b[1;33m\u001b[0m\u001b[1;33m\u001b[0m\u001b[0m\n",
      "\u001b[1;32mD:\\application\\Anaconda\\lib\\site-packages\\pandas\\io\\parsers.py\u001b[0m in \u001b[0;36m_read\u001b[1;34m(filepath_or_buffer, kwds)\u001b[0m\n\u001b[0;32m    455\u001b[0m \u001b[1;33m\u001b[0m\u001b[0m\n\u001b[0;32m    456\u001b[0m     \u001b[1;31m# Create the parser.\u001b[0m\u001b[1;33m\u001b[0m\u001b[1;33m\u001b[0m\u001b[1;33m\u001b[0m\u001b[0m\n\u001b[1;32m--> 457\u001b[1;33m     \u001b[0mparser\u001b[0m \u001b[1;33m=\u001b[0m \u001b[0mTextFileReader\u001b[0m\u001b[1;33m(\u001b[0m\u001b[0mfp_or_buf\u001b[0m\u001b[1;33m,\u001b[0m \u001b[1;33m**\u001b[0m\u001b[0mkwds\u001b[0m\u001b[1;33m)\u001b[0m\u001b[1;33m\u001b[0m\u001b[1;33m\u001b[0m\u001b[0m\n\u001b[0m\u001b[0;32m    458\u001b[0m \u001b[1;33m\u001b[0m\u001b[0m\n\u001b[0;32m    459\u001b[0m     \u001b[1;32mif\u001b[0m \u001b[0mchunksize\u001b[0m \u001b[1;32mor\u001b[0m \u001b[0miterator\u001b[0m\u001b[1;33m:\u001b[0m\u001b[1;33m\u001b[0m\u001b[1;33m\u001b[0m\u001b[0m\n",
      "\u001b[1;32mD:\\application\\Anaconda\\lib\\site-packages\\pandas\\io\\parsers.py\u001b[0m in \u001b[0;36m__init__\u001b[1;34m(self, f, engine, **kwds)\u001b[0m\n\u001b[0;32m    893\u001b[0m             \u001b[0mself\u001b[0m\u001b[1;33m.\u001b[0m\u001b[0moptions\u001b[0m\u001b[1;33m[\u001b[0m\u001b[1;34m\"has_index_names\"\u001b[0m\u001b[1;33m]\u001b[0m \u001b[1;33m=\u001b[0m \u001b[0mkwds\u001b[0m\u001b[1;33m[\u001b[0m\u001b[1;34m\"has_index_names\"\u001b[0m\u001b[1;33m]\u001b[0m\u001b[1;33m\u001b[0m\u001b[1;33m\u001b[0m\u001b[0m\n\u001b[0;32m    894\u001b[0m \u001b[1;33m\u001b[0m\u001b[0m\n\u001b[1;32m--> 895\u001b[1;33m         \u001b[0mself\u001b[0m\u001b[1;33m.\u001b[0m\u001b[0m_make_engine\u001b[0m\u001b[1;33m(\u001b[0m\u001b[0mself\u001b[0m\u001b[1;33m.\u001b[0m\u001b[0mengine\u001b[0m\u001b[1;33m)\u001b[0m\u001b[1;33m\u001b[0m\u001b[1;33m\u001b[0m\u001b[0m\n\u001b[0m\u001b[0;32m    896\u001b[0m \u001b[1;33m\u001b[0m\u001b[0m\n\u001b[0;32m    897\u001b[0m     \u001b[1;32mdef\u001b[0m \u001b[0mclose\u001b[0m\u001b[1;33m(\u001b[0m\u001b[0mself\u001b[0m\u001b[1;33m)\u001b[0m\u001b[1;33m:\u001b[0m\u001b[1;33m\u001b[0m\u001b[1;33m\u001b[0m\u001b[0m\n",
      "\u001b[1;32mD:\\application\\Anaconda\\lib\\site-packages\\pandas\\io\\parsers.py\u001b[0m in \u001b[0;36m_make_engine\u001b[1;34m(self, engine)\u001b[0m\n\u001b[0;32m   1133\u001b[0m     \u001b[1;32mdef\u001b[0m \u001b[0m_make_engine\u001b[0m\u001b[1;33m(\u001b[0m\u001b[0mself\u001b[0m\u001b[1;33m,\u001b[0m \u001b[0mengine\u001b[0m\u001b[1;33m=\u001b[0m\u001b[1;34m\"c\"\u001b[0m\u001b[1;33m)\u001b[0m\u001b[1;33m:\u001b[0m\u001b[1;33m\u001b[0m\u001b[1;33m\u001b[0m\u001b[0m\n\u001b[0;32m   1134\u001b[0m         \u001b[1;32mif\u001b[0m \u001b[0mengine\u001b[0m \u001b[1;33m==\u001b[0m \u001b[1;34m\"c\"\u001b[0m\u001b[1;33m:\u001b[0m\u001b[1;33m\u001b[0m\u001b[1;33m\u001b[0m\u001b[0m\n\u001b[1;32m-> 1135\u001b[1;33m             \u001b[0mself\u001b[0m\u001b[1;33m.\u001b[0m\u001b[0m_engine\u001b[0m \u001b[1;33m=\u001b[0m \u001b[0mCParserWrapper\u001b[0m\u001b[1;33m(\u001b[0m\u001b[0mself\u001b[0m\u001b[1;33m.\u001b[0m\u001b[0mf\u001b[0m\u001b[1;33m,\u001b[0m \u001b[1;33m**\u001b[0m\u001b[0mself\u001b[0m\u001b[1;33m.\u001b[0m\u001b[0moptions\u001b[0m\u001b[1;33m)\u001b[0m\u001b[1;33m\u001b[0m\u001b[1;33m\u001b[0m\u001b[0m\n\u001b[0m\u001b[0;32m   1136\u001b[0m         \u001b[1;32melse\u001b[0m\u001b[1;33m:\u001b[0m\u001b[1;33m\u001b[0m\u001b[1;33m\u001b[0m\u001b[0m\n\u001b[0;32m   1137\u001b[0m             \u001b[1;32mif\u001b[0m \u001b[0mengine\u001b[0m \u001b[1;33m==\u001b[0m \u001b[1;34m\"python\"\u001b[0m\u001b[1;33m:\u001b[0m\u001b[1;33m\u001b[0m\u001b[1;33m\u001b[0m\u001b[0m\n",
      "\u001b[1;32mD:\\application\\Anaconda\\lib\\site-packages\\pandas\\io\\parsers.py\u001b[0m in \u001b[0;36m__init__\u001b[1;34m(self, src, **kwds)\u001b[0m\n\u001b[0;32m   1915\u001b[0m         \u001b[0mkwds\u001b[0m\u001b[1;33m[\u001b[0m\u001b[1;34m\"usecols\"\u001b[0m\u001b[1;33m]\u001b[0m \u001b[1;33m=\u001b[0m \u001b[0mself\u001b[0m\u001b[1;33m.\u001b[0m\u001b[0musecols\u001b[0m\u001b[1;33m\u001b[0m\u001b[1;33m\u001b[0m\u001b[0m\n\u001b[0;32m   1916\u001b[0m \u001b[1;33m\u001b[0m\u001b[0m\n\u001b[1;32m-> 1917\u001b[1;33m         \u001b[0mself\u001b[0m\u001b[1;33m.\u001b[0m\u001b[0m_reader\u001b[0m \u001b[1;33m=\u001b[0m \u001b[0mparsers\u001b[0m\u001b[1;33m.\u001b[0m\u001b[0mTextReader\u001b[0m\u001b[1;33m(\u001b[0m\u001b[0msrc\u001b[0m\u001b[1;33m,\u001b[0m \u001b[1;33m**\u001b[0m\u001b[0mkwds\u001b[0m\u001b[1;33m)\u001b[0m\u001b[1;33m\u001b[0m\u001b[1;33m\u001b[0m\u001b[0m\n\u001b[0m\u001b[0;32m   1918\u001b[0m         \u001b[0mself\u001b[0m\u001b[1;33m.\u001b[0m\u001b[0munnamed_cols\u001b[0m \u001b[1;33m=\u001b[0m \u001b[0mself\u001b[0m\u001b[1;33m.\u001b[0m\u001b[0m_reader\u001b[0m\u001b[1;33m.\u001b[0m\u001b[0munnamed_cols\u001b[0m\u001b[1;33m\u001b[0m\u001b[1;33m\u001b[0m\u001b[0m\n\u001b[0;32m   1919\u001b[0m \u001b[1;33m\u001b[0m\u001b[0m\n",
      "\u001b[1;32mpandas\\_libs\\parsers.pyx\u001b[0m in \u001b[0;36mpandas._libs.parsers.TextReader.__cinit__\u001b[1;34m()\u001b[0m\n",
      "\u001b[1;32mpandas\\_libs\\parsers.pyx\u001b[0m in \u001b[0;36mpandas._libs.parsers.TextReader._setup_parser_source\u001b[1;34m()\u001b[0m\n",
      "\u001b[1;31mFileNotFoundError\u001b[0m: [Errno 2] File b'../input/titanic/train.csv' does not exist: b'../input/titanic/train.csv'"
     ]
    }
   ],
   "source": [
    "data_train = pd.read_csv('train.csv')\n",
    "data_test = pd.read_csv('test.csv')"
   ]
  },
  {
   "cell_type": "markdown",
   "metadata": {
    "papermill": {
     "duration": 0.016042,
     "end_time": "2020-08-31T13:02:05.493267",
     "exception": false,
     "start_time": "2020-08-31T13:02:05.477225",
     "status": "completed"
    },
    "tags": []
   },
   "source": [
    "# Exploratory Data Analysis"
   ]
  },
  {
   "cell_type": "code",
   "execution_count": null,
   "metadata": {
    "execution": {
     "iopub.execute_input": "2020-08-31T13:02:05.534092Z",
     "iopub.status.busy": "2020-08-31T13:02:05.532994Z",
     "iopub.status.idle": "2020-08-31T13:02:05.536872Z",
     "shell.execute_reply": "2020-08-31T13:02:05.536109Z"
    },
    "papermill": {
     "duration": 0.027197,
     "end_time": "2020-08-31T13:02:05.536999",
     "exception": false,
     "start_time": "2020-08-31T13:02:05.509802",
     "status": "completed"
    },
    "tags": []
   },
   "outputs": [],
   "source": [
    "train = data_train.copy()\n",
    "test = data_test.copy()"
   ]
  },
  {
   "cell_type": "code",
   "execution_count": null,
   "metadata": {
    "execution": {
     "iopub.execute_input": "2020-08-31T13:02:05.591217Z",
     "iopub.status.busy": "2020-08-31T13:02:05.590374Z",
     "iopub.status.idle": "2020-08-31T13:02:05.604866Z",
     "shell.execute_reply": "2020-08-31T13:02:05.605468Z"
    },
    "papermill": {
     "duration": 0.052171,
     "end_time": "2020-08-31T13:02:05.605629",
     "exception": false,
     "start_time": "2020-08-31T13:02:05.553458",
     "status": "completed"
    },
    "tags": []
   },
   "outputs": [],
   "source": [
    "train.head()"
   ]
  },
  {
   "cell_type": "code",
   "execution_count": null,
   "metadata": {
    "execution": {
     "iopub.execute_input": "2020-08-31T13:02:05.660652Z",
     "iopub.status.busy": "2020-08-31T13:02:05.659599Z",
     "iopub.status.idle": "2020-08-31T13:02:05.665631Z",
     "shell.execute_reply": "2020-08-31T13:02:05.664711Z"
    },
    "papermill": {
     "duration": 0.041486,
     "end_time": "2020-08-31T13:02:05.665838",
     "exception": false,
     "start_time": "2020-08-31T13:02:05.624352",
     "status": "completed"
    },
    "tags": []
   },
   "outputs": [],
   "source": [
    "test.head()"
   ]
  },
  {
   "cell_type": "code",
   "execution_count": null,
   "metadata": {
    "execution": {
     "iopub.execute_input": "2020-08-31T13:02:05.737212Z",
     "iopub.status.busy": "2020-08-31T13:02:05.736369Z",
     "iopub.status.idle": "2020-08-31T13:02:05.742017Z",
     "shell.execute_reply": "2020-08-31T13:02:05.741227Z"
    },
    "papermill": {
     "duration": 0.05701,
     "end_time": "2020-08-31T13:02:05.742242",
     "exception": false,
     "start_time": "2020-08-31T13:02:05.685232",
     "status": "completed"
    },
    "tags": []
   },
   "outputs": [],
   "source": [
    "print(train.info())\n",
    "print('\\n')\n",
    "print(test.info())"
   ]
  },
  {
   "cell_type": "markdown",
   "metadata": {
    "papermill": {
     "duration": 0.017384,
     "end_time": "2020-08-31T13:02:05.778484",
     "exception": false,
     "start_time": "2020-08-31T13:02:05.761100",
     "status": "completed"
    },
    "tags": []
   },
   "source": [
    "## Analysis Data Numeric and Category"
   ]
  },
  {
   "cell_type": "code",
   "execution_count": null,
   "metadata": {
    "execution": {
     "iopub.execute_input": "2020-08-31T13:02:05.824514Z",
     "iopub.status.busy": "2020-08-31T13:02:05.823531Z",
     "iopub.status.idle": "2020-08-31T13:02:05.827964Z",
     "shell.execute_reply": "2020-08-31T13:02:05.827045Z"
    },
    "papermill": {
     "duration": 0.031601,
     "end_time": "2020-08-31T13:02:05.828150",
     "exception": false,
     "start_time": "2020-08-31T13:02:05.796549",
     "status": "completed"
    },
    "tags": []
   },
   "outputs": [],
   "source": [
    "# get letter on column 'cabin' value to categorize column 'cabin'\n",
    "train['Cabin'] = train['Cabin'].str.get(0)\n",
    "test['Cabin'] = test['Cabin'].str.get(0)"
   ]
  },
  {
   "cell_type": "code",
   "execution_count": null,
   "metadata": {
    "execution": {
     "iopub.execute_input": "2020-08-31T13:02:05.876604Z",
     "iopub.status.busy": "2020-08-31T13:02:05.875489Z",
     "iopub.status.idle": "2020-08-31T13:02:05.879953Z",
     "shell.execute_reply": "2020-08-31T13:02:05.879166Z"
    },
    "papermill": {
     "duration": 0.032884,
     "end_time": "2020-08-31T13:02:05.880119",
     "exception": false,
     "start_time": "2020-08-31T13:02:05.847235",
     "status": "completed"
    },
    "tags": []
   },
   "outputs": [],
   "source": [
    "# split into numeric and categorical data for analysis purpose\n",
    "num_data = train[['Age', 'SibSp', 'Parch', 'Fare']]\n",
    "cat_data = train[['Survived', 'Pclass', 'Sex', 'Cabin', 'Embarked']]"
   ]
  },
  {
   "cell_type": "markdown",
   "metadata": {
    "papermill": {
     "duration": 0.017807,
     "end_time": "2020-08-31T13:02:05.916476",
     "exception": false,
     "start_time": "2020-08-31T13:02:05.898669",
     "status": "completed"
    },
    "tags": []
   },
   "source": [
    "### Analysis Data Numeric"
   ]
  },
  {
   "cell_type": "code",
   "execution_count": null,
   "metadata": {
    "execution": {
     "iopub.execute_input": "2020-08-31T13:02:05.966261Z",
     "iopub.status.busy": "2020-08-31T13:02:05.965240Z",
     "iopub.status.idle": "2020-08-31T13:02:07.894451Z",
     "shell.execute_reply": "2020-08-31T13:02:07.895006Z"
    },
    "papermill": {
     "duration": 1.960635,
     "end_time": "2020-08-31T13:02:07.895195",
     "exception": false,
     "start_time": "2020-08-31T13:02:05.934560",
     "status": "completed"
    },
    "scrolled": true,
    "tags": []
   },
   "outputs": [],
   "source": [
    "import statsmodels\n",
    "\n",
    "fig, ax = plt.subplots(2, 2 ,figsize = (12,8))\n",
    "fig.tight_layout(pad=5.0)\n",
    "# can use for loop, if to much columns\n",
    "sns.distplot(ax = ax[0, 0], a = num_data['Age'].dropna())\n",
    "ax[0, 0].set_title('Age', fontsize = 18)\n",
    "\n",
    "sns.distplot(ax = ax[0, 1], a = num_data['SibSp'].dropna())\n",
    "ax[0, 1].set_title('SibSp', fontsize = 18)\n",
    "\n",
    "sns.distplot(ax = ax[1, 0], a = num_data['Parch'].dropna())\n",
    "ax[1, 0].set_title('Parch', fontsize = 18)\n",
    "\n",
    "sns.distplot(ax = ax[1, 1], a = num_data['Fare'].dropna())\n",
    "ax[1, 1].set_title('Fare', fontsize = 18)\n",
    "\n",
    "plt.show()"
   ]
  },
  {
   "cell_type": "code",
   "execution_count": null,
   "metadata": {
    "execution": {
     "iopub.execute_input": "2020-08-31T13:02:07.942928Z",
     "iopub.status.busy": "2020-08-31T13:02:07.941794Z",
     "iopub.status.idle": "2020-08-31T13:02:08.223532Z",
     "shell.execute_reply": "2020-08-31T13:02:08.224134Z"
    },
    "papermill": {
     "duration": 0.310638,
     "end_time": "2020-08-31T13:02:08.224336",
     "exception": false,
     "start_time": "2020-08-31T13:02:07.913698",
     "status": "completed"
    },
    "scrolled": true,
    "tags": []
   },
   "outputs": [],
   "source": [
    "# heatmap data numeric\n",
    "heatmapdata = train[['Survived', 'Age', 'SibSp', 'Parch', 'Fare']]\n",
    "\n",
    "cormat = heatmapdata.corr()\n",
    "fig, ax = plt.subplots(figsize = (8,4))\n",
    "sns.heatmap(data = cormat)\n",
    "plt.show()"
   ]
  },
  {
   "cell_type": "markdown",
   "metadata": {
    "papermill": {
     "duration": 0.018218,
     "end_time": "2020-08-31T13:02:08.261383",
     "exception": false,
     "start_time": "2020-08-31T13:02:08.243165",
     "status": "completed"
    },
    "tags": []
   },
   "source": [
    "### Analysis Data Category"
   ]
  },
  {
   "cell_type": "code",
   "execution_count": null,
   "metadata": {
    "execution": {
     "iopub.execute_input": "2020-08-31T13:02:08.454270Z",
     "iopub.status.busy": "2020-08-31T13:02:08.450925Z",
     "iopub.status.idle": "2020-08-31T13:02:09.306075Z",
     "shell.execute_reply": "2020-08-31T13:02:09.305267Z"
    },
    "papermill": {
     "duration": 1.025483,
     "end_time": "2020-08-31T13:02:09.306250",
     "exception": false,
     "start_time": "2020-08-31T13:02:08.280767",
     "status": "completed"
    },
    "scrolled": true,
    "tags": []
   },
   "outputs": [],
   "source": [
    "fig, ax = plt.subplots(cat_data.shape[1], 1, figsize = (8,16))\n",
    "for i, n in enumerate(cat_data):\n",
    "        sns.barplot(ax = ax[i], x = cat_data[n].fillna('NaN').value_counts().index, y = cat_data[n].fillna('NaN').value_counts())\n",
    "        ax[i].set_title(n)\n",
    "plt.show()"
   ]
  },
  {
   "cell_type": "markdown",
   "metadata": {
    "papermill": {
     "duration": 0.01933,
     "end_time": "2020-08-31T13:02:09.345920",
     "exception": false,
     "start_time": "2020-08-31T13:02:09.326590",
     "status": "completed"
    },
    "tags": []
   },
   "source": [
    "# Preprocessing Data (handle missing data, cleaning data, feature engineering, etc.) on Each Columns"
   ]
  },
  {
   "cell_type": "markdown",
   "metadata": {
    "papermill": {
     "duration": 0.018816,
     "end_time": "2020-08-31T13:02:09.384086",
     "exception": false,
     "start_time": "2020-08-31T13:02:09.365270",
     "status": "completed"
    },
    "tags": []
   },
   "source": [
    "## Handle missing data"
   ]
  },
  {
   "cell_type": "code",
   "execution_count": null,
   "metadata": {
    "execution": {
     "iopub.execute_input": "2020-08-31T13:02:09.442522Z",
     "iopub.status.busy": "2020-08-31T13:02:09.441183Z",
     "iopub.status.idle": "2020-08-31T13:02:09.452294Z",
     "shell.execute_reply": "2020-08-31T13:02:09.451559Z"
    },
    "papermill": {
     "duration": 0.048958,
     "end_time": "2020-08-31T13:02:09.452506",
     "exception": false,
     "start_time": "2020-08-31T13:02:09.403548",
     "status": "completed"
    },
    "tags": []
   },
   "outputs": [],
   "source": [
    "# create columns survived for same shape with training data\n",
    "test.insert(1, 'Survived', -1)\n",
    "test.info()"
   ]
  },
  {
   "cell_type": "code",
   "execution_count": null,
   "metadata": {
    "execution": {
     "iopub.execute_input": "2020-08-31T13:02:09.504517Z",
     "iopub.status.busy": "2020-08-31T13:02:09.503506Z",
     "iopub.status.idle": "2020-08-31T13:02:09.515191Z",
     "shell.execute_reply": "2020-08-31T13:02:09.514469Z"
    },
    "papermill": {
     "duration": 0.042965,
     "end_time": "2020-08-31T13:02:09.515352",
     "exception": false,
     "start_time": "2020-08-31T13:02:09.472387",
     "status": "completed"
    },
    "tags": []
   },
   "outputs": [],
   "source": [
    "print('Train :\\n',train.isnull().sum())\n",
    "print('\\n')\n",
    "print('Test :\\n', test.isnull().sum())"
   ]
  },
  {
   "cell_type": "code",
   "execution_count": null,
   "metadata": {
    "execution": {
     "iopub.execute_input": "2020-08-31T13:02:09.572101Z",
     "iopub.status.busy": "2020-08-31T13:02:09.568986Z",
     "iopub.status.idle": "2020-08-31T13:02:09.599534Z",
     "shell.execute_reply": "2020-08-31T13:02:09.598784Z"
    },
    "papermill": {
     "duration": 0.063154,
     "end_time": "2020-08-31T13:02:09.599696",
     "exception": false,
     "start_time": "2020-08-31T13:02:09.536542",
     "status": "completed"
    },
    "tags": []
   },
   "outputs": [],
   "source": [
    "# handle missing data on column age (do the same on data test, but with median of data train)\n",
    "train['Age'].fillna(train['Age'].median(), inplace = True)\n",
    "test['Age'].fillna(train['Age'].median(), inplace = True)\n",
    "\n",
    "# we know test data have nan values on fare (do the same with train data, for better understanding)\n",
    "train['Fare'].fillna(train['Fare'].median(), inplace = True)\n",
    "test['Fare'].fillna(train['Fare'].median(), inplace = True)\n",
    "\n",
    "# handle missing data on embarked columns\n",
    "train.dropna(subset=['Embarked'] , inplace = True)"
   ]
  },
  {
   "cell_type": "code",
   "execution_count": null,
   "metadata": {
    "execution": {
     "iopub.execute_input": "2020-08-31T13:02:09.648629Z",
     "iopub.status.busy": "2020-08-31T13:02:09.647808Z",
     "iopub.status.idle": "2020-08-31T13:02:09.651654Z",
     "shell.execute_reply": "2020-08-31T13:02:09.650888Z"
    },
    "papermill": {
     "duration": 0.032841,
     "end_time": "2020-08-31T13:02:09.651795",
     "exception": false,
     "start_time": "2020-08-31T13:02:09.618954",
     "status": "completed"
    },
    "tags": []
   },
   "outputs": [],
   "source": [
    "# Drop cabin because that's have many null/nan values\n",
    "train.drop(['Cabin'], axis = 1, inplace = True)\n",
    "test.drop(['Cabin'], axis = 1, inplace = True)"
   ]
  },
  {
   "cell_type": "code",
   "execution_count": null,
   "metadata": {
    "execution": {
     "iopub.execute_input": "2020-08-31T13:02:09.702354Z",
     "iopub.status.busy": "2020-08-31T13:02:09.698475Z",
     "iopub.status.idle": "2020-08-31T13:02:09.707247Z",
     "shell.execute_reply": "2020-08-31T13:02:09.707815Z"
    },
    "papermill": {
     "duration": 0.036986,
     "end_time": "2020-08-31T13:02:09.708017",
     "exception": false,
     "start_time": "2020-08-31T13:02:09.671031",
     "status": "completed"
    },
    "tags": []
   },
   "outputs": [],
   "source": [
    "print('Train :\\n',train.isnull().sum())\n",
    "print('\\n')\n",
    "print('Test :\\n', test.isnull().sum())"
   ]
  },
  {
   "cell_type": "markdown",
   "metadata": {
    "papermill": {
     "duration": 0.018859,
     "end_time": "2020-08-31T13:02:09.746056",
     "exception": false,
     "start_time": "2020-08-31T13:02:09.727197",
     "status": "completed"
    },
    "tags": []
   },
   "source": [
    "## Create Column 'FamilySurvived' & 'FamilyDied'"
   ]
  },
  {
   "cell_type": "code",
   "execution_count": null,
   "metadata": {
    "execution": {
     "iopub.execute_input": "2020-08-31T13:02:09.795964Z",
     "iopub.status.busy": "2020-08-31T13:02:09.795005Z",
     "iopub.status.idle": "2020-08-31T13:02:09.806599Z",
     "shell.execute_reply": "2020-08-31T13:02:09.807222Z"
    },
    "papermill": {
     "duration": 0.042145,
     "end_time": "2020-08-31T13:02:09.807456",
     "exception": false,
     "start_time": "2020-08-31T13:02:09.765311",
     "status": "completed"
    },
    "tags": []
   },
   "outputs": [],
   "source": [
    "# Create column family survived & died from column 'Name' (LastName)\n",
    "train['LastName'] = train['Name'].str.split(',', expand=True)[0]\n",
    "test['LastName'] = test['Name'].str.split(',', expand=True)[0]"
   ]
  },
  {
   "cell_type": "code",
   "execution_count": null,
   "metadata": {
    "execution": {
     "iopub.execute_input": "2020-08-31T13:02:09.867227Z",
     "iopub.status.busy": "2020-08-31T13:02:09.866082Z",
     "iopub.status.idle": "2020-08-31T13:02:09.871965Z",
     "shell.execute_reply": "2020-08-31T13:02:09.871153Z"
    },
    "papermill": {
     "duration": 0.045165,
     "end_time": "2020-08-31T13:02:09.872124",
     "exception": false,
     "start_time": "2020-08-31T13:02:09.826959",
     "status": "completed"
    },
    "scrolled": true,
    "tags": []
   },
   "outputs": [],
   "source": [
    "train.head()"
   ]
  },
  {
   "cell_type": "code",
   "execution_count": null,
   "metadata": {
    "execution": {
     "iopub.execute_input": "2020-08-31T13:02:09.928342Z",
     "iopub.status.busy": "2020-08-31T13:02:09.927021Z",
     "iopub.status.idle": "2020-08-31T13:02:13.016209Z",
     "shell.execute_reply": "2020-08-31T13:02:13.015481Z"
    },
    "papermill": {
     "duration": 3.124203,
     "end_time": "2020-08-31T13:02:13.016363",
     "exception": false,
     "start_time": "2020-08-31T13:02:09.892160",
     "status": "completed"
    },
    "tags": []
   },
   "outputs": [],
   "source": [
    "train['Train'] = 1\n",
    "test['Train'] = 0\n",
    "\n",
    "alldata = pd.concat((train, test), sort = False).reset_index(drop = True)\n",
    "\n",
    "# From Ken Jee (https://www.youtube.com/watch?v=I3FBJdiExcg&t=1477s)\n",
    "sur_data = []\n",
    "died_data = []\n",
    "for index, row in alldata.iterrows():\n",
    "    s = alldata[(alldata['LastName']==row['LastName']) & (alldata['Survived']==1)]\n",
    "    d = alldata[(alldata['LastName']==row['LastName']) & (alldata['Survived']==0)]\n",
    "    \n",
    "    s=len(s)\n",
    "    if row['Survived'] == 1:\n",
    "        s-=1\n",
    "\n",
    "    d=len(d)\n",
    "    if row['Survived'] == 0:\n",
    "        d-=1\n",
    "        \n",
    "    sur_data.append(s)\n",
    "    died_data.append(d)\n",
    "    \n",
    "alldata['FamilySurvived'] = sur_data\n",
    "alldata['FamilyDied'] = died_data"
   ]
  },
  {
   "cell_type": "code",
   "execution_count": null,
   "metadata": {
    "execution": {
     "iopub.execute_input": "2020-08-31T13:02:13.064163Z",
     "iopub.status.busy": "2020-08-31T13:02:13.063309Z",
     "iopub.status.idle": "2020-08-31T13:02:13.069691Z",
     "shell.execute_reply": "2020-08-31T13:02:13.070337Z"
    },
    "papermill": {
     "duration": 0.034384,
     "end_time": "2020-08-31T13:02:13.070559",
     "exception": false,
     "start_time": "2020-08-31T13:02:13.036175",
     "status": "completed"
    },
    "tags": []
   },
   "outputs": [],
   "source": [
    "train = alldata[alldata['Train'] == 1]\n",
    "test = alldata[alldata['Train'] == 0]\n"
   ]
  },
  {
   "cell_type": "markdown",
   "metadata": {
    "papermill": {
     "duration": 0.019774,
     "end_time": "2020-08-31T13:02:13.109991",
     "exception": false,
     "start_time": "2020-08-31T13:02:13.090217",
     "status": "completed"
    },
    "tags": []
   },
   "source": [
    "## Cleaning Data on Column 'Age' and 'Fare'"
   ]
  },
  {
   "cell_type": "code",
   "execution_count": null,
   "metadata": {
    "execution": {
     "iopub.execute_input": "2020-08-31T13:02:13.162034Z",
     "iopub.status.busy": "2020-08-31T13:02:13.161160Z",
     "iopub.status.idle": "2020-08-31T13:02:13.175649Z",
     "shell.execute_reply": "2020-08-31T13:02:13.174856Z"
    },
    "papermill": {
     "duration": 0.045982,
     "end_time": "2020-08-31T13:02:13.175824",
     "exception": false,
     "start_time": "2020-08-31T13:02:13.129842",
     "status": "completed"
    },
    "tags": []
   },
   "outputs": [],
   "source": [
    "# Remove outlier from data train\n",
    "# https://towardsdatascience.com/ways-to-detect-and-remove-the-outliers-404d16608dba\n",
    "\n",
    "q1 = train['Age'].quantile(0.25)\n",
    "q3 = train['Age'].quantile(0.75)\n",
    "iqr = q3-q1\n",
    "train = train[~((train['Age'] < (q1 - 1.5 * iqr)) | (train['Age'] > (q3+1.5*iqr)))]\n",
    "\n",
    "q1=train['Fare'].quantile(0.25)\n",
    "q3 = train['Fare'].quantile(0.75)\n",
    "iqr = q3-q1\n",
    "train = train[~ ((train['Fare'] < q1 - 1.5 * iqr) | (train['Fare'] > (q3 + 1.5 * iqr)))]"
   ]
  },
  {
   "cell_type": "code",
   "execution_count": null,
   "metadata": {
    "execution": {
     "iopub.execute_input": "2020-08-31T13:02:13.224076Z",
     "iopub.status.busy": "2020-08-31T13:02:13.223180Z",
     "iopub.status.idle": "2020-08-31T13:02:13.228166Z",
     "shell.execute_reply": "2020-08-31T13:02:13.226904Z"
    },
    "papermill": {
     "duration": 0.032745,
     "end_time": "2020-08-31T13:02:13.228378",
     "exception": false,
     "start_time": "2020-08-31T13:02:13.195633",
     "status": "completed"
    },
    "tags": []
   },
   "outputs": [],
   "source": [
    "# Do log transform for column fare to make data more close into normal distribution\n",
    "train['Fare'] = np.log1p(train['Fare']) # the same as np.log(train['Fare'] + 1)\n",
    "test['Fare'] = np.log1p(test['Fare']) # the same as np.log(test['Fare'] + 1)"
   ]
  },
  {
   "cell_type": "code",
   "execution_count": null,
   "metadata": {
    "execution": {
     "iopub.execute_input": "2020-08-31T13:02:13.289953Z",
     "iopub.status.busy": "2020-08-31T13:02:13.287047Z",
     "iopub.status.idle": "2020-08-31T13:02:14.010374Z",
     "shell.execute_reply": "2020-08-31T13:02:14.011045Z"
    },
    "papermill": {
     "duration": 0.76196,
     "end_time": "2020-08-31T13:02:14.011247",
     "exception": false,
     "start_time": "2020-08-31T13:02:13.249287",
     "status": "completed"
    },
    "scrolled": true,
    "tags": []
   },
   "outputs": [],
   "source": [
    "import seaborn as sns\n",
    "fig, ax = plt.subplots(1, 2 ,figsize = (16,4))\n",
    "sns.distplot(ax = ax[0], a = train['Age'])\n",
    "sns.distplot(ax = ax[1], a = train['Fare'])\n",
    "plt.show()"
   ]
  },
  {
   "cell_type": "code",
   "execution_count": null,
   "metadata": {
    "execution": {
     "iopub.execute_input": "2020-08-31T13:02:14.075819Z",
     "iopub.status.busy": "2020-08-31T13:02:14.074900Z",
     "iopub.status.idle": "2020-08-31T13:02:14.079911Z",
     "shell.execute_reply": "2020-08-31T13:02:14.079216Z"
    },
    "papermill": {
     "duration": 0.048418,
     "end_time": "2020-08-31T13:02:14.080054",
     "exception": false,
     "start_time": "2020-08-31T13:02:14.031636",
     "status": "completed"
    },
    "scrolled": true,
    "tags": []
   },
   "outputs": [],
   "source": [
    "train.head()"
   ]
  },
  {
   "cell_type": "code",
   "execution_count": null,
   "metadata": {
    "execution": {
     "iopub.execute_input": "2020-08-31T13:02:14.145424Z",
     "iopub.status.busy": "2020-08-31T13:02:14.135239Z",
     "iopub.status.idle": "2020-08-31T13:02:14.151114Z",
     "shell.execute_reply": "2020-08-31T13:02:14.150427Z"
    },
    "papermill": {
     "duration": 0.050466,
     "end_time": "2020-08-31T13:02:14.151264",
     "exception": false,
     "start_time": "2020-08-31T13:02:14.100798",
     "status": "completed"
    },
    "tags": []
   },
   "outputs": [],
   "source": [
    "test.head()"
   ]
  },
  {
   "cell_type": "markdown",
   "metadata": {
    "papermill": {
     "duration": 0.020458,
     "end_time": "2020-08-31T13:02:14.192749",
     "exception": false,
     "start_time": "2020-08-31T13:02:14.172291",
     "status": "completed"
    },
    "tags": []
   },
   "source": [
    "## Encode Categorical Data"
   ]
  },
  {
   "cell_type": "code",
   "execution_count": null,
   "metadata": {
    "execution": {
     "iopub.execute_input": "2020-08-31T13:02:14.248971Z",
     "iopub.status.busy": "2020-08-31T13:02:14.248086Z",
     "iopub.status.idle": "2020-08-31T13:02:14.346614Z",
     "shell.execute_reply": "2020-08-31T13:02:14.347204Z"
    },
    "papermill": {
     "duration": 0.1337,
     "end_time": "2020-08-31T13:02:14.347426",
     "exception": false,
     "start_time": "2020-08-31T13:02:14.213726",
     "status": "completed"
    },
    "tags": []
   },
   "outputs": [],
   "source": [
    "from sklearn.preprocessing import LabelEncoder\n",
    "le = LabelEncoder()\n",
    "le.fit(train['Pclass'])\n",
    "train['Pclass'] = le.transform(train['Pclass'])\n",
    "from sklearn.preprocessing import OneHotEncoder\n",
    "# By dropping one of the one-hot encoded columns from each categorical feature, we ensure there are no \"reference\" columns—the remaining columns become linearly independent.\n",
    "# https://kiwidamien.github.io/are-you-getting-burned-by-one-hot-encoding.html\n",
    "# https://www.youtube.com/watch?v=g9aLvY8BfRM\n",
    "ohe = OneHotEncoder(sparse = False, drop = 'first', categories = 'auto')\n",
    "ohe.fit(train[['Sex', 'Embarked']])\n",
    "ohecategory_train = ohe.transform(train[['Sex', 'Embarked']])\n",
    "ohecategory_test = ohe.transform(test[['Sex', 'Embarked']])\n",
    "\n",
    "for i in range(ohecategory_train.shape[1]):\n",
    "    train['dummy_variable_' + str(i)] = ohecategory_train[:,i]\n",
    "\n",
    "for i in range(ohecategory_test.shape[1]):\n",
    "    test['dummy_variable_' + str(i)] = ohecategory_test[:,i]\n",
    "\n",
    "\n",
    "print('Train shape :', train.shape)\n",
    "print('Test shape :', test.shape)"
   ]
  },
  {
   "cell_type": "markdown",
   "metadata": {
    "papermill": {
     "duration": 0.028714,
     "end_time": "2020-08-31T13:02:14.397545",
     "exception": false,
     "start_time": "2020-08-31T13:02:14.368831",
     "status": "completed"
    },
    "tags": []
   },
   "source": [
    "## Standardization Numerical Data"
   ]
  },
  {
   "cell_type": "markdown",
   "metadata": {
    "papermill": {
     "duration": 0.020664,
     "end_time": "2020-08-31T13:02:14.439903",
     "exception": false,
     "start_time": "2020-08-31T13:02:14.419239",
     "status": "completed"
    },
    "tags": []
   },
   "source": []
  },
  {
   "cell_type": "code",
   "execution_count": null,
   "metadata": {
    "execution": {
     "iopub.execute_input": "2020-08-31T13:02:14.491458Z",
     "iopub.status.busy": "2020-08-31T13:02:14.490560Z",
     "iopub.status.idle": "2020-08-31T13:02:14.516823Z",
     "shell.execute_reply": "2020-08-31T13:02:14.515733Z"
    },
    "papermill": {
     "duration": 0.056355,
     "end_time": "2020-08-31T13:02:14.517036",
     "exception": false,
     "start_time": "2020-08-31T13:02:14.460681",
     "status": "completed"
    },
    "tags": []
   },
   "outputs": [],
   "source": [
    "# https://benalexkeen.com/feature-scaling-with-scikit-learn/\n",
    "# https://stats.stackexchange.com/questions/463690/multiple-regression-with-mixed-continuous-categorical-variables-dummy-coding-s\n",
    "\n",
    "from sklearn.preprocessing import StandardScaler\n",
    "sc = StandardScaler()\n",
    "sc.fit(train[['Age', 'SibSp', 'Parch', 'Fare']])\n",
    "train[['Age', 'SibSp', 'Parch', 'Fare']] = sc.transform(train[['Age', 'SibSp', 'Parch', 'Fare']])\n",
    "test[['Age', 'SibSp', 'Parch', 'Fare']] = sc.transform(test[['Age', 'SibSp', 'Parch', 'Fare']])\n"
   ]
  },
  {
   "cell_type": "code",
   "execution_count": null,
   "metadata": {
    "execution": {
     "iopub.execute_input": "2020-08-31T13:02:14.587479Z",
     "iopub.status.busy": "2020-08-31T13:02:14.586573Z",
     "iopub.status.idle": "2020-08-31T13:02:14.592175Z",
     "shell.execute_reply": "2020-08-31T13:02:14.591521Z"
    },
    "papermill": {
     "duration": 0.052684,
     "end_time": "2020-08-31T13:02:14.592321",
     "exception": false,
     "start_time": "2020-08-31T13:02:14.539637",
     "status": "completed"
    },
    "tags": []
   },
   "outputs": [],
   "source": [
    "train.head()"
   ]
  },
  {
   "cell_type": "code",
   "execution_count": null,
   "metadata": {
    "execution": {
     "iopub.execute_input": "2020-08-31T13:02:14.661300Z",
     "iopub.status.busy": "2020-08-31T13:02:14.660388Z",
     "iopub.status.idle": "2020-08-31T13:02:14.665879Z",
     "shell.execute_reply": "2020-08-31T13:02:14.665210Z"
    },
    "papermill": {
     "duration": 0.052116,
     "end_time": "2020-08-31T13:02:14.666018",
     "exception": false,
     "start_time": "2020-08-31T13:02:14.613902",
     "status": "completed"
    },
    "scrolled": true,
    "tags": []
   },
   "outputs": [],
   "source": [
    "test.head()"
   ]
  },
  {
   "cell_type": "markdown",
   "metadata": {
    "papermill": {
     "duration": 0.023262,
     "end_time": "2020-08-31T13:02:14.711211",
     "exception": false,
     "start_time": "2020-08-31T13:02:14.687949",
     "status": "completed"
    },
    "tags": []
   },
   "source": [
    "# Feature Selection"
   ]
  },
  {
   "cell_type": "code",
   "execution_count": null,
   "metadata": {
    "execution": {
     "iopub.execute_input": "2020-08-31T13:02:14.766936Z",
     "iopub.status.busy": "2020-08-31T13:02:14.765766Z",
     "iopub.status.idle": "2020-08-31T13:02:14.770713Z",
     "shell.execute_reply": "2020-08-31T13:02:14.769974Z"
    },
    "papermill": {
     "duration": 0.035994,
     "end_time": "2020-08-31T13:02:14.770878",
     "exception": false,
     "start_time": "2020-08-31T13:02:14.734884",
     "status": "completed"
    },
    "tags": []
   },
   "outputs": [],
   "source": [
    "# See if train and test data have same shape and column position\n",
    "print('Train columns :\\n',train.columns)\n",
    "print('Train shape : ', train.shape)\n",
    "print('\\n')\n",
    "print('Test columns :\\n',test.columns)\n",
    "print('Test shape : ', test.shape)"
   ]
  },
  {
   "cell_type": "code",
   "execution_count": null,
   "metadata": {
    "execution": {
     "iopub.execute_input": "2020-08-31T13:02:14.841751Z",
     "iopub.status.busy": "2020-08-31T13:02:14.840665Z",
     "iopub.status.idle": "2020-08-31T13:02:14.846162Z",
     "shell.execute_reply": "2020-08-31T13:02:14.845377Z"
    },
    "papermill": {
     "duration": 0.052447,
     "end_time": "2020-08-31T13:02:14.846316",
     "exception": false,
     "start_time": "2020-08-31T13:02:14.793869",
     "status": "completed"
    },
    "tags": []
   },
   "outputs": [],
   "source": [
    "# See & explore the data for dropping unused columns/features\n",
    "train.head()"
   ]
  },
  {
   "cell_type": "code",
   "execution_count": null,
   "metadata": {
    "execution": {
     "iopub.execute_input": "2020-08-31T13:02:14.902058Z",
     "iopub.status.busy": "2020-08-31T13:02:14.900248Z",
     "iopub.status.idle": "2020-08-31T13:02:14.918544Z",
     "shell.execute_reply": "2020-08-31T13:02:14.917434Z"
    },
    "papermill": {
     "duration": 0.050174,
     "end_time": "2020-08-31T13:02:14.918781",
     "exception": false,
     "start_time": "2020-08-31T13:02:14.868607",
     "status": "completed"
    },
    "tags": []
   },
   "outputs": [],
   "source": [
    "train.drop(['PassengerId', 'Name', 'Sex', 'Ticket', 'Embarked', 'LastName', 'Train'], axis = 1, inplace = True)\n",
    "test.drop(['PassengerId', 'Name', 'Sex', 'Ticket', 'Embarked', 'LastName', 'Train'], axis = 1, inplace = True)"
   ]
  },
  {
   "cell_type": "code",
   "execution_count": null,
   "metadata": {
    "execution": {
     "iopub.execute_input": "2020-08-31T13:02:14.973420Z",
     "iopub.status.busy": "2020-08-31T13:02:14.972230Z",
     "iopub.status.idle": "2020-08-31T13:02:14.976532Z",
     "shell.execute_reply": "2020-08-31T13:02:14.977290Z"
    },
    "papermill": {
     "duration": 0.036238,
     "end_time": "2020-08-31T13:02:14.977519",
     "exception": false,
     "start_time": "2020-08-31T13:02:14.941281",
     "status": "completed"
    },
    "tags": []
   },
   "outputs": [],
   "source": [
    "print('Train columns :\\n',train.columns)\n",
    "print('Train shape : ', train.shape)\n",
    "print('\\n')\n",
    "print('Test columns :\\n',test.columns)\n",
    "print('Test shape : ', test.shape)"
   ]
  },
  {
   "cell_type": "code",
   "execution_count": null,
   "metadata": {
    "execution": {
     "iopub.execute_input": "2020-08-31T13:02:15.032840Z",
     "iopub.status.busy": "2020-08-31T13:02:15.031687Z",
     "iopub.status.idle": "2020-08-31T13:02:15.040657Z",
     "shell.execute_reply": "2020-08-31T13:02:15.041453Z"
    },
    "papermill": {
     "duration": 0.041621,
     "end_time": "2020-08-31T13:02:15.041651",
     "exception": false,
     "start_time": "2020-08-31T13:02:15.000030",
     "status": "completed"
    },
    "scrolled": true,
    "tags": []
   },
   "outputs": [],
   "source": [
    "X_train = train.iloc[:, 1:].values\n",
    "y_train = train.iloc[:, 0].values\n",
    "\n",
    "X_test = test.iloc[:, 1:].values\n",
    "y_test = test.iloc[:, 0].values\n",
    "\n",
    "print('X_train :\\n', X_train[0:5])\n",
    "print('y_train :\\n', y_train[0:5])"
   ]
  },
  {
   "cell_type": "markdown",
   "metadata": {
    "papermill": {
     "duration": 0.022299,
     "end_time": "2020-08-31T13:02:15.086540",
     "exception": false,
     "start_time": "2020-08-31T13:02:15.064241",
     "status": "completed"
    },
    "tags": []
   },
   "source": [
    "# Model Prediction"
   ]
  },
  {
   "cell_type": "markdown",
   "metadata": {
    "papermill": {
     "duration": 0.02152,
     "end_time": "2020-08-31T13:02:15.182567",
     "exception": false,
     "start_time": "2020-08-31T13:02:15.161047",
     "status": "completed"
    },
    "tags": []
   },
   "source": [
    "In this section, U had done some experiment with several machine learning algorithms like Naive Bayes, Logistic Regression, XGBoost, K-Nearest Neighbors, etc. I used GridSearchCV to find best parameter and accuracy from each algorithms, after that I implemented on data test and submitted the results prediction to kaggle. The best score I have is <b>0.79425 (top 9%)</b> with K-Nearest Neighbors algorithm (parameter : leaf_size = 1, metric = 'minkowski', n_neighbors = 12, p = 1, weights = 'distance')"
   ]
  },
  {
   "cell_type": "markdown",
   "metadata": {
    "papermill": {
     "duration": 0.021976,
     "end_time": "2020-08-31T13:02:15.226685",
     "exception": false,
     "start_time": "2020-08-31T13:02:15.204709",
     "status": "completed"
    },
    "tags": []
   },
   "source": [
    "### K-Nearest Neighbors"
   ]
  },
  {
   "cell_type": "code",
   "execution_count": null,
   "metadata": {
    "execution": {
     "iopub.execute_input": "2020-08-31T13:02:15.279621Z",
     "iopub.status.busy": "2020-08-31T13:02:15.278715Z",
     "iopub.status.idle": "2020-08-31T13:02:15.563150Z",
     "shell.execute_reply": "2020-08-31T13:02:15.562378Z"
    },
    "papermill": {
     "duration": 0.314213,
     "end_time": "2020-08-31T13:02:15.563278",
     "exception": false,
     "start_time": "2020-08-31T13:02:15.249065",
     "status": "completed"
    },
    "tags": []
   },
   "outputs": [],
   "source": [
    "from sklearn.neighbors import KNeighborsClassifier\n",
    "from sklearn.model_selection import cross_val_score\n",
    "\n",
    "clf = KNeighborsClassifier(leaf_size = 1, metric = 'minkowski', n_neighbors = 12, p = 1, weights = 'distance')\n",
    "accuracies = cross_val_score(clf, X_train, y_train, cv = 10)\n",
    "print('Accuracies : ', accuracies)\n",
    "print('AVG Accuracies : ', accuracies.mean())\n",
    "print('STD/variance:',accuracies.std())\n"
   ]
  },
  {
   "cell_type": "code",
   "execution_count": null,
   "metadata": {
    "execution": {
     "iopub.execute_input": "2020-08-31T13:02:15.616305Z",
     "iopub.status.busy": "2020-08-31T13:02:15.615562Z",
     "iopub.status.idle": "2020-08-31T13:02:15.656965Z",
     "shell.execute_reply": "2020-08-31T13:02:15.656192Z"
    },
    "papermill": {
     "duration": 0.071708,
     "end_time": "2020-08-31T13:02:15.657091",
     "exception": false,
     "start_time": "2020-08-31T13:02:15.585383",
     "status": "completed"
    },
    "tags": []
   },
   "outputs": [],
   "source": [
    "clf.fit(X_train, y_train)\n",
    "y_pred = clf.predict(X_test)\n",
    "y_pred = y_pred.astype('int64')\n",
    "\n",
    "submission = pd.DataFrame()\n",
    "submission['PassengerId'] = data_test['PassengerId']\n",
    "submission['Survived'] = y_pred\n",
    "submission['Survived'].value_counts()\n"
   ]
  },
  {
   "cell_type": "code",
   "execution_count": null,
   "metadata": {
    "execution": {
     "iopub.execute_input": "2020-08-31T13:02:15.707938Z",
     "iopub.status.busy": "2020-08-31T13:02:15.706876Z",
     "iopub.status.idle": "2020-08-31T13:02:15.816313Z",
     "shell.execute_reply": "2020-08-31T13:02:15.816931Z"
    },
    "papermill": {
     "duration": 0.13817,
     "end_time": "2020-08-31T13:02:15.817106",
     "exception": false,
     "start_time": "2020-08-31T13:02:15.678936",
     "status": "completed"
    },
    "tags": []
   },
   "outputs": [],
   "source": [
    "submission.to_csv(r'Submission.csv', index = False, header = True)"
   ]
  }
 ],
 "metadata": {
  "kernelspec": {
   "display_name": "Python 3",
   "language": "python",
   "name": "python3"
  },
  "language_info": {
   "codemirror_mode": {
    "name": "ipython",
    "version": 3
   },
   "file_extension": ".py",
   "mimetype": "text/x-python",
   "name": "python",
   "nbconvert_exporter": "python",
   "pygments_lexer": "ipython3",
   "version": "3.7.3"
  },
  "papermill": {
   "duration": 18.030288,
   "end_time": "2020-08-31T13:02:16.873828",
   "environment_variables": {},
   "exception": null,
   "input_path": "__notebook__.ipynb",
   "output_path": "__notebook__.ipynb",
   "parameters": {},
   "start_time": "2020-08-31T13:01:58.843540",
   "version": "2.1.0"
  }
 },
 "nbformat": 4,
 "nbformat_minor": 4
}
